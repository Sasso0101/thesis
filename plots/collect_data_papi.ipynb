{
 "cells": [
  {
   "cell_type": "markdown",
   "metadata": {},
   "source": [
    "#### Convert data from PAPI counters to CSV"
   ]
  },
  {
   "cell_type": "code",
   "execution_count": 12,
   "metadata": {},
   "outputs": [
    {
     "name": "stdout",
     "output_type": "stream",
     "text": [
      "Successfully wrote results to papi_data.csv\n"
     ]
    }
   ],
   "source": [
    "import os\n",
    "import json\n",
    "import csv\n",
    "import re\n",
    "\n",
    "def process_papi_files(root_dir, output_csv):\n",
    "  \"\"\"\n",
    "  Parses PAPI JSON output files in specified subdirectories and aggregates results into a CSV file.\n",
    "\n",
    "  Args:\n",
    "    root_dir (str): The directory containing the subdirectories with PAPI data.\n",
    "    output_csv (str): The path to the output CSV file.\n",
    "  \"\"\"\n",
    "  # Regex to parse the directory name\n",
    "  dir_pattern = re.compile(r'^(gapbs|openmp|pthreads)_(\\d+)cpus_(.+).mtx$')\n",
    "\n",
    "  results = []\n",
    "\n",
    "  for dir_name in os.listdir(root_dir):\n",
    "    dir_path = os.path.join(root_dir, dir_name)\n",
    "    if not os.path.isdir(dir_path):\n",
    "      continue\n",
    "\n",
    "    match = dir_pattern.match(dir_name)\n",
    "    if not match:\n",
    "      continue\n",
    "\n",
    "    implementation, ncpus, dataset_name = match.groups()\n",
    "    total_tca = 0\n",
    "    total_tcm = 0\n",
    "\n",
    "    dir_path = os.path.join(dir_path, \"papi_hl_output\")\n",
    "\n",
    "    found_json = False\n",
    "    for file_name in os.listdir(dir_path):\n",
    "      if file_name.endswith('.json'):\n",
    "        json_path = os.path.join(dir_path, file_name)\n",
    "        try:\n",
    "          with open(json_path, 'r') as f:\n",
    "            data = json.load(f)\n",
    "\n",
    "          threads = data.get(\"threads\", {})\n",
    "          for thread_id, thread_data in threads.items():\n",
    "            regions = thread_data.get(\"regions\", {})\n",
    "            for region_id, region_data in regions.items():\n",
    "              total_tca += int(region_data.get(\"PAPI_L3_TCA\", 0))\n",
    "              total_tcm += int(region_data.get(\"PAPI_L3_TCM\", 0))\n",
    "          found_json = True\n",
    "          break # Process only the first JSON file found in the directory\n",
    "        except (json.JSONDecodeError, KeyError, ValueError) as e:\n",
    "          print(f\"Error processing {json_path}: {e}\")\n",
    "          continue\n",
    "    \n",
    "    if found_json:\n",
    "      results.append({\n",
    "        'implementation': implementation,\n",
    "        'ncpus': ncpus,\n",
    "        'dataset_name': dataset_name,\n",
    "        'PAPI_L3_TCA': total_tca,\n",
    "        'PAPI_L3_TCM': total_tcm\n",
    "      })\n",
    "\n",
    "  # Write results to CSV\n",
    "  if not results:\n",
    "    print(\"No data processed.\")\n",
    "    return\n",
    "\n",
    "  with open(output_csv, 'w', newline='') as csvfile:\n",
    "    fieldnames = ['implementation', 'ncpus', 'dataset_name', 'PAPI_L3_TCA', 'PAPI_L3_TCM']\n",
    "    writer = csv.DictWriter(csvfile, fieldnames=fieldnames)\n",
    "\n",
    "    writer.writeheader()\n",
    "    for row in results:\n",
    "      writer.writerow(row)\n",
    "\n",
    "  print(f\"Successfully wrote results to {output_csv}\")\n",
    "\n",
    "directory='../papi'\n",
    "output_file = 'papi_data.csv'\n",
    "process_papi_files(directory, output_file)"
   ]
  },
  {
   "cell_type": "code",
   "execution_count": null,
   "metadata": {},
   "outputs": [],
   "source": []
  }
 ],
 "metadata": {
  "kernelspec": {
   "display_name": ".venv",
   "language": "python",
   "name": "python3"
  },
  "language_info": {
   "codemirror_mode": {
    "name": "ipython",
    "version": 3
   },
   "file_extension": ".py",
   "mimetype": "text/x-python",
   "name": "python",
   "nbconvert_exporter": "python",
   "pygments_lexer": "ipython3",
   "version": "3.13.5"
  }
 },
 "nbformat": 4,
 "nbformat_minor": 2
}
